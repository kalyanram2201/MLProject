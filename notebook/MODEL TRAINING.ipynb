{
 "cells": [
  {
   "cell_type": "markdown",
   "id": "c459fc50",
   "metadata": {},
   "source": [
    "## Model Training"
   ]
  },
  {
   "cell_type": "markdown",
   "id": "a9906f2c",
   "metadata": {},
   "source": [
    "#### 1.1 Import Data and Required Packages\n",
    "##### Importing Pandas, Numpy, Matplotlib, Seaborn and Warings Library."
   ]
  },
  {
   "cell_type": "code",
   "execution_count": 1,
   "id": "86f09e1d",
   "metadata": {},
   "outputs": [],
   "source": [
    "# Basic Imports\n",
    "import numpy as np\n",
    "import pandas as pd\n",
    "import matplotlib.pyplot as plt\n",
    "import seaborn as sns\n",
    "\n",
    "# Modeling\n",
    "from sklearn.metrics import mean_squared_error,r2_score\n",
    "from sklearn.neighbors import KNeighborsRegressor\n",
    "from sklearn.tree import DecisionTreeRegressor\n",
    "from sklearn.ensemble import RandomForestRegressor,AdaBoostRegressor\n",
    "from sklearn.svm import SVR\n",
    "from sklearn.linear_model import LinearRegression,Ridge,Lasso\n",
    "from sklearn.metrics import r2_score,mean_absolute_error,mean_squared_error\n",
    "from sklearn.model_selection import RandomizedSearchCV\n",
    "from catboost import CatBoostRegressor\n",
    "from xgboost import XGBRegressor\n",
    "import warnings"
   ]
  },
  {
   "cell_type": "markdown",
   "id": "230a5fc7",
   "metadata": {},
   "source": [
    "### Import the CSV Data as Pandas DataFrame"
   ]
  },
  {
   "cell_type": "code",
   "execution_count": 2,
   "metadata": {},
   "outputs": [],
   "source": [
    "df=pd.read_csv('data/stud.csv')"
   ]
  },
  {
   "cell_type": "code",
   "execution_count": 3,
   "id": "1da4c38e",
   "metadata": {},
   "outputs": [
    {
     "data": {
      "application/vnd.microsoft.datawrangler.viewer.v0+json": {
       "columns": [
        {
         "name": "index",
         "rawType": "int64",
         "type": "integer"
        },
        {
         "name": "gender",
         "rawType": "object",
         "type": "string"
        },
        {
         "name": "race_ethnicity",
         "rawType": "object",
         "type": "string"
        },
        {
         "name": "parental_level_of_education",
         "rawType": "object",
         "type": "string"
        },
        {
         "name": "lunch",
         "rawType": "object",
         "type": "string"
        },
        {
         "name": "test_preparation_course",
         "rawType": "object",
         "type": "string"
        },
        {
         "name": "math_score",
         "rawType": "int64",
         "type": "integer"
        },
        {
         "name": "reading_score",
         "rawType": "int64",
         "type": "integer"
        },
        {
         "name": "writing_score",
         "rawType": "int64",
         "type": "integer"
        }
       ],
       "ref": "0bee846a-c8fb-4484-9cd5-fda7b70f4c25",
       "rows": [
        [
         "0",
         "female",
         "group B",
         "bachelor's degree",
         "standard",
         "none",
         "72",
         "72",
         "74"
        ],
        [
         "1",
         "female",
         "group C",
         "some college",
         "standard",
         "completed",
         "69",
         "90",
         "88"
        ],
        [
         "2",
         "female",
         "group B",
         "master's degree",
         "standard",
         "none",
         "90",
         "95",
         "93"
        ],
        [
         "3",
         "male",
         "group A",
         "associate's degree",
         "free/reduced",
         "none",
         "47",
         "57",
         "44"
        ],
        [
         "4",
         "male",
         "group C",
         "some college",
         "standard",
         "none",
         "76",
         "78",
         "75"
        ]
       ],
       "shape": {
        "columns": 8,
        "rows": 5
       }
      },
      "text/html": [
       "<div>\n",
       "<style scoped>\n",
       "    .dataframe tbody tr th:only-of-type {\n",
       "        vertical-align: middle;\n",
       "    }\n",
       "\n",
       "    .dataframe tbody tr th {\n",
       "        vertical-align: top;\n",
       "    }\n",
       "\n",
       "    .dataframe thead th {\n",
       "        text-align: right;\n",
       "    }\n",
       "</style>\n",
       "<table border=\"1\" class=\"dataframe\">\n",
       "  <thead>\n",
       "    <tr style=\"text-align: right;\">\n",
       "      <th></th>\n",
       "      <th>gender</th>\n",
       "      <th>race_ethnicity</th>\n",
       "      <th>parental_level_of_education</th>\n",
       "      <th>lunch</th>\n",
       "      <th>test_preparation_course</th>\n",
       "      <th>math_score</th>\n",
       "      <th>reading_score</th>\n",
       "      <th>writing_score</th>\n",
       "    </tr>\n",
       "  </thead>\n",
       "  <tbody>\n",
       "    <tr>\n",
       "      <th>0</th>\n",
       "      <td>female</td>\n",
       "      <td>group B</td>\n",
       "      <td>bachelor's degree</td>\n",
       "      <td>standard</td>\n",
       "      <td>none</td>\n",
       "      <td>72</td>\n",
       "      <td>72</td>\n",
       "      <td>74</td>\n",
       "    </tr>\n",
       "    <tr>\n",
       "      <th>1</th>\n",
       "      <td>female</td>\n",
       "      <td>group C</td>\n",
       "      <td>some college</td>\n",
       "      <td>standard</td>\n",
       "      <td>completed</td>\n",
       "      <td>69</td>\n",
       "      <td>90</td>\n",
       "      <td>88</td>\n",
       "    </tr>\n",
       "    <tr>\n",
       "      <th>2</th>\n",
       "      <td>female</td>\n",
       "      <td>group B</td>\n",
       "      <td>master's degree</td>\n",
       "      <td>standard</td>\n",
       "      <td>none</td>\n",
       "      <td>90</td>\n",
       "      <td>95</td>\n",
       "      <td>93</td>\n",
       "    </tr>\n",
       "    <tr>\n",
       "      <th>3</th>\n",
       "      <td>male</td>\n",
       "      <td>group A</td>\n",
       "      <td>associate's degree</td>\n",
       "      <td>free/reduced</td>\n",
       "      <td>none</td>\n",
       "      <td>47</td>\n",
       "      <td>57</td>\n",
       "      <td>44</td>\n",
       "    </tr>\n",
       "    <tr>\n",
       "      <th>4</th>\n",
       "      <td>male</td>\n",
       "      <td>group C</td>\n",
       "      <td>some college</td>\n",
       "      <td>standard</td>\n",
       "      <td>none</td>\n",
       "      <td>76</td>\n",
       "      <td>78</td>\n",
       "      <td>75</td>\n",
       "    </tr>\n",
       "  </tbody>\n",
       "</table>\n",
       "</div>"
      ],
      "text/plain": [
       "   gender race_ethnicity parental_level_of_education         lunch  \\\n",
       "0  female        group B           bachelor's degree      standard   \n",
       "1  female        group C                some college      standard   \n",
       "2  female        group B             master's degree      standard   \n",
       "3    male        group A          associate's degree  free/reduced   \n",
       "4    male        group C                some college      standard   \n",
       "\n",
       "  test_preparation_course  math_score  reading_score  writing_score  \n",
       "0                    none          72             72             74  \n",
       "1               completed          69             90             88  \n",
       "2                    none          90             95             93  \n",
       "3                    none          47             57             44  \n",
       "4                    none          76             78             75  "
      ]
     },
     "execution_count": 3,
     "metadata": {},
     "output_type": "execute_result"
    }
   ],
   "source": [
    "df.head()"
   ]
  },
  {
   "cell_type": "code",
   "execution_count": 4,
   "metadata": {},
   "outputs": [],
   "source": [
    "##  Preaparing X and Y variables\n",
    "x=df.drop(columns=['math_score'],axis=1)"
   ]
  },
  {
   "cell_type": "code",
   "execution_count": 5,
   "metadata": {},
   "outputs": [
    {
     "data": {
      "application/vnd.microsoft.datawrangler.viewer.v0+json": {
       "columns": [
        {
         "name": "index",
         "rawType": "int64",
         "type": "integer"
        },
        {
         "name": "gender",
         "rawType": "object",
         "type": "string"
        },
        {
         "name": "race_ethnicity",
         "rawType": "object",
         "type": "string"
        },
        {
         "name": "parental_level_of_education",
         "rawType": "object",
         "type": "string"
        },
        {
         "name": "lunch",
         "rawType": "object",
         "type": "string"
        },
        {
         "name": "test_preparation_course",
         "rawType": "object",
         "type": "string"
        },
        {
         "name": "reading_score",
         "rawType": "int64",
         "type": "integer"
        },
        {
         "name": "writing_score",
         "rawType": "int64",
         "type": "integer"
        }
       ],
       "ref": "722bf480-f267-468c-96cc-1379ddea3999",
       "rows": [
        [
         "0",
         "female",
         "group B",
         "bachelor's degree",
         "standard",
         "none",
         "72",
         "74"
        ],
        [
         "1",
         "female",
         "group C",
         "some college",
         "standard",
         "completed",
         "90",
         "88"
        ],
        [
         "2",
         "female",
         "group B",
         "master's degree",
         "standard",
         "none",
         "95",
         "93"
        ],
        [
         "3",
         "male",
         "group A",
         "associate's degree",
         "free/reduced",
         "none",
         "57",
         "44"
        ],
        [
         "4",
         "male",
         "group C",
         "some college",
         "standard",
         "none",
         "78",
         "75"
        ]
       ],
       "shape": {
        "columns": 7,
        "rows": 5
       }
      },
      "text/html": [
       "<div>\n",
       "<style scoped>\n",
       "    .dataframe tbody tr th:only-of-type {\n",
       "        vertical-align: middle;\n",
       "    }\n",
       "\n",
       "    .dataframe tbody tr th {\n",
       "        vertical-align: top;\n",
       "    }\n",
       "\n",
       "    .dataframe thead th {\n",
       "        text-align: right;\n",
       "    }\n",
       "</style>\n",
       "<table border=\"1\" class=\"dataframe\">\n",
       "  <thead>\n",
       "    <tr style=\"text-align: right;\">\n",
       "      <th></th>\n",
       "      <th>gender</th>\n",
       "      <th>race_ethnicity</th>\n",
       "      <th>parental_level_of_education</th>\n",
       "      <th>lunch</th>\n",
       "      <th>test_preparation_course</th>\n",
       "      <th>reading_score</th>\n",
       "      <th>writing_score</th>\n",
       "    </tr>\n",
       "  </thead>\n",
       "  <tbody>\n",
       "    <tr>\n",
       "      <th>0</th>\n",
       "      <td>female</td>\n",
       "      <td>group B</td>\n",
       "      <td>bachelor's degree</td>\n",
       "      <td>standard</td>\n",
       "      <td>none</td>\n",
       "      <td>72</td>\n",
       "      <td>74</td>\n",
       "    </tr>\n",
       "    <tr>\n",
       "      <th>1</th>\n",
       "      <td>female</td>\n",
       "      <td>group C</td>\n",
       "      <td>some college</td>\n",
       "      <td>standard</td>\n",
       "      <td>completed</td>\n",
       "      <td>90</td>\n",
       "      <td>88</td>\n",
       "    </tr>\n",
       "    <tr>\n",
       "      <th>2</th>\n",
       "      <td>female</td>\n",
       "      <td>group B</td>\n",
       "      <td>master's degree</td>\n",
       "      <td>standard</td>\n",
       "      <td>none</td>\n",
       "      <td>95</td>\n",
       "      <td>93</td>\n",
       "    </tr>\n",
       "    <tr>\n",
       "      <th>3</th>\n",
       "      <td>male</td>\n",
       "      <td>group A</td>\n",
       "      <td>associate's degree</td>\n",
       "      <td>free/reduced</td>\n",
       "      <td>none</td>\n",
       "      <td>57</td>\n",
       "      <td>44</td>\n",
       "    </tr>\n",
       "    <tr>\n",
       "      <th>4</th>\n",
       "      <td>male</td>\n",
       "      <td>group C</td>\n",
       "      <td>some college</td>\n",
       "      <td>standard</td>\n",
       "      <td>none</td>\n",
       "      <td>78</td>\n",
       "      <td>75</td>\n",
       "    </tr>\n",
       "  </tbody>\n",
       "</table>\n",
       "</div>"
      ],
      "text/plain": [
       "   gender race_ethnicity parental_level_of_education         lunch  \\\n",
       "0  female        group B           bachelor's degree      standard   \n",
       "1  female        group C                some college      standard   \n",
       "2  female        group B             master's degree      standard   \n",
       "3    male        group A          associate's degree  free/reduced   \n",
       "4    male        group C                some college      standard   \n",
       "\n",
       "  test_preparation_course  reading_score  writing_score  \n",
       "0                    none             72             74  \n",
       "1               completed             90             88  \n",
       "2                    none             95             93  \n",
       "3                    none             57             44  \n",
       "4                    none             78             75  "
      ]
     },
     "execution_count": 5,
     "metadata": {},
     "output_type": "execute_result"
    }
   ],
   "source": [
    "x.head()"
   ]
  },
  {
   "cell_type": "code",
   "execution_count": 6,
   "metadata": {},
   "outputs": [
    {
     "name": "stdout",
     "output_type": "stream",
     "text": [
      "Categories in 'gender' variables:  ['female' 'male']\n",
      "Categories in 'race_ethnicity' variables:  ['group B' 'group C' 'group A' 'group D' 'group E']\n",
      "Categories in 'parental_level_of_education' variables:  [\"bachelor's degree\" 'some college' \"master's degree\" \"associate's degree\"\n",
      " 'high school' 'some high school']\n",
      "Categories in 'lunch' variables:  ['standard' 'free/reduced']\n",
      "Categories in 'test_preparation_course' variables:  ['none' 'completed']\n"
     ]
    }
   ],
   "source": [
    "print(\"Categories in 'gender' variables: \",end=\" \")\n",
    "print(df['gender'].unique())\n",
    "\n",
    "print(\"Categories in 'race_ethnicity' variables: \",end=\" \")\n",
    "print(df['race_ethnicity'].unique())\n",
    "\n",
    "print(\"Categories in 'parental_level_of_education' variables: \",end=\" \")\n",
    "print(df['parental_level_of_education'].unique())\n",
    "\n",
    "print(\"Categories in 'lunch' variables: \",end=\" \")\n",
    "print(df['lunch'].unique())\n",
    "\n",
    "print(\"Categories in 'test_preparation_course' variables: \",end=\" \")\n",
    "print(df['test_preparation_course'].unique())\n"
   ]
  },
  {
   "cell_type": "code",
   "execution_count": 7,
   "id": "10c9bef9",
   "metadata": {},
   "outputs": [],
   "source": [
    "y=df['math_score']"
   ]
  },
  {
   "cell_type": "code",
   "execution_count": 8,
   "metadata": {},
   "outputs": [
    {
     "data": {
      "application/vnd.microsoft.datawrangler.viewer.v0+json": {
       "columns": [
        {
         "name": "index",
         "rawType": "int64",
         "type": "integer"
        },
        {
         "name": "math_score",
         "rawType": "int64",
         "type": "integer"
        }
       ],
       "ref": "6aa6a5aa-e54c-48a7-9067-6f7782214ec3",
       "rows": [
        [
         "0",
         "72"
        ],
        [
         "1",
         "69"
        ],
        [
         "2",
         "90"
        ],
        [
         "3",
         "47"
        ],
        [
         "4",
         "76"
        ],
        [
         "5",
         "71"
        ],
        [
         "6",
         "88"
        ],
        [
         "7",
         "40"
        ],
        [
         "8",
         "64"
        ],
        [
         "9",
         "38"
        ],
        [
         "10",
         "58"
        ],
        [
         "11",
         "40"
        ],
        [
         "12",
         "65"
        ],
        [
         "13",
         "78"
        ],
        [
         "14",
         "50"
        ],
        [
         "15",
         "69"
        ],
        [
         "16",
         "88"
        ],
        [
         "17",
         "18"
        ],
        [
         "18",
         "46"
        ],
        [
         "19",
         "54"
        ],
        [
         "20",
         "66"
        ],
        [
         "21",
         "65"
        ],
        [
         "22",
         "44"
        ],
        [
         "23",
         "69"
        ],
        [
         "24",
         "74"
        ],
        [
         "25",
         "73"
        ],
        [
         "26",
         "69"
        ],
        [
         "27",
         "67"
        ],
        [
         "28",
         "70"
        ],
        [
         "29",
         "62"
        ],
        [
         "30",
         "69"
        ],
        [
         "31",
         "63"
        ],
        [
         "32",
         "56"
        ],
        [
         "33",
         "40"
        ],
        [
         "34",
         "97"
        ],
        [
         "35",
         "81"
        ],
        [
         "36",
         "74"
        ],
        [
         "37",
         "50"
        ],
        [
         "38",
         "75"
        ],
        [
         "39",
         "57"
        ],
        [
         "40",
         "55"
        ],
        [
         "41",
         "58"
        ],
        [
         "42",
         "53"
        ],
        [
         "43",
         "59"
        ],
        [
         "44",
         "50"
        ],
        [
         "45",
         "65"
        ],
        [
         "46",
         "55"
        ],
        [
         "47",
         "66"
        ],
        [
         "48",
         "57"
        ],
        [
         "49",
         "82"
        ]
       ],
       "shape": {
        "columns": 1,
        "rows": 1000
       }
      },
      "text/plain": [
       "0      72\n",
       "1      69\n",
       "2      90\n",
       "3      47\n",
       "4      76\n",
       "       ..\n",
       "995    88\n",
       "996    62\n",
       "997    59\n",
       "998    68\n",
       "999    77\n",
       "Name: math_score, Length: 1000, dtype: int64"
      ]
     },
     "execution_count": 8,
     "metadata": {},
     "output_type": "execute_result"
    }
   ],
   "source": [
    "y"
   ]
  },
  {
   "cell_type": "code",
   "execution_count": 9,
   "id": "7b339dc0",
   "metadata": {},
   "outputs": [],
   "source": [
    "## Create Column Transformer with 3 types of transformers\n",
    "num_features=x.select_dtypes(exclude='object').columns\n",
    "cat_features=x.select_dtypes(include='object').columns\n",
    "\n",
    "from sklearn.preprocessing import StandardScaler,OneHotEncoder\n",
    "from sklearn.compose import ColumnTransformer\n",
    "\n",
    "scaler=StandardScaler()\n",
    "ohe=OneHotEncoder()\n",
    "\n",
    "processor=ColumnTransformer(\n",
    "    [\n",
    "        ('OneHotEncoder',ohe,cat_features),\n",
    "        ('StandardScaler',scaler,num_features)\n",
    "    ]\n",
    ")"
   ]
  },
  {
   "cell_type": "code",
   "execution_count": 10,
   "id": "13946ec3",
   "metadata": {},
   "outputs": [],
   "source": [
    "x=processor.fit_transform(x)"
   ]
  },
  {
   "cell_type": "code",
   "execution_count": 11,
   "id": "891991cc",
   "metadata": {},
   "outputs": [
    {
     "data": {
      "text/plain": [
       "(1000, 19)"
      ]
     },
     "execution_count": 11,
     "metadata": {},
     "output_type": "execute_result"
    }
   ],
   "source": [
    "x.shape"
   ]
  },
  {
   "cell_type": "code",
   "execution_count": 12,
   "id": "65ef6c0f",
   "metadata": {},
   "outputs": [
    {
     "data": {
      "text/plain": [
       "((800, 19), (200, 19))"
      ]
     },
     "execution_count": 12,
     "metadata": {},
     "output_type": "execute_result"
    }
   ],
   "source": [
    "## Separate dataset into train and test\n",
    "from sklearn.model_selection import train_test_split\n",
    "x_train,x_test,y_train,y_test=train_test_split(x,y,test_size=0.2,random_state=42)\n",
    "x_train.shape,x_test.shape"
   ]
  },
  {
   "cell_type": "markdown",
   "id": "a2c76c76",
   "metadata": {},
   "source": [
    "#### Create an Evaluate Function to give all metrics after model Training"
   ]
  },
  {
   "cell_type": "code",
   "execution_count": 13,
   "id": "0d8830de",
   "metadata": {},
   "outputs": [],
   "source": [
    "def evaluate_model(true,predict):\n",
    "    mae=mean_absolute_error(true,predict)\n",
    "    mse=mean_squared_error(true,predict)\n",
    "    rmse=np.sqrt(mean_squared_error(true,predict))\n",
    "    r2score=r2_score(true,predict)\n",
    "    return mae,rmse,r2score"
   ]
  },
  {
   "cell_type": "code",
   "execution_count": 16,
   "id": "eb275492",
   "metadata": {},
   "outputs": [
    {
     "name": "stdout",
     "output_type": "stream",
     "text": [
      "Linear Regression\n",
      "Model Preformance for Training set\n",
      "- Root Mean Squared Erro: 4.2667\n",
      "- Mean Absolute Error: 4.2667\n",
      "- R2 Score: {:.4f} 0.8743172040139593\n",
      "-------------------------------------------\n",
      "Model Preformance for Test set\n",
      "- Root Mean Squared Erro: 4.2148\n",
      "- Mean Absolute Error: 4.2148\n",
      "- R2 Score: {:.4f} 0.8804332983749565\n",
      "===================================\n",
      "\n",
      "\n",
      "Lasso\n",
      "Model Preformance for Training set\n",
      "- Root Mean Squared Erro: 5.2063\n",
      "- Mean Absolute Error: 5.2063\n",
      "- R2 Score: {:.4f} 0.8071462015863458\n",
      "-------------------------------------------\n",
      "Model Preformance for Test set\n",
      "- Root Mean Squared Erro: 5.1579\n",
      "- Mean Absolute Error: 5.1579\n",
      "- R2 Score: {:.4f} 0.8253197323627853\n",
      "===================================\n",
      "\n",
      "\n",
      "Ridge\n",
      "Model Preformance for Training set\n",
      "- Root Mean Squared Erro: 4.2650\n",
      "- Mean Absolute Error: 4.2650\n",
      "- R2 Score: {:.4f} 0.8743042615212909\n",
      "-------------------------------------------\n",
      "Model Preformance for Test set\n",
      "- Root Mean Squared Erro: 4.2111\n",
      "- Mean Absolute Error: 4.2111\n",
      "- R2 Score: {:.4f} 0.8805931485028738\n",
      "===================================\n",
      "\n",
      "\n",
      "K-Neighbors Regressor\n",
      "Model Preformance for Training set\n",
      "- Root Mean Squared Erro: 4.5175\n",
      "- Mean Absolute Error: 4.5175\n",
      "- R2 Score: {:.4f} 0.8554177711742752\n",
      "-------------------------------------------\n",
      "Model Preformance for Test set\n",
      "- Root Mean Squared Erro: 5.6370\n",
      "- Mean Absolute Error: 5.6370\n",
      "- R2 Score: {:.4f} 0.7834973847119895\n",
      "===================================\n",
      "\n",
      "\n",
      "Decision Tree\n",
      "Model Preformance for Training set\n",
      "- Root Mean Squared Erro: 0.0187\n",
      "- Mean Absolute Error: 0.0187\n",
      "- R2 Score: {:.4f} 0.9996534669718089\n",
      "-------------------------------------------\n",
      "Model Preformance for Test set\n",
      "- Root Mean Squared Erro: 6.1500\n",
      "- Mean Absolute Error: 6.1500\n",
      "- R2 Score: {:.4f} 0.7513750398621837\n",
      "===================================\n",
      "\n",
      "\n",
      "Random Forest Regressor\n",
      "Model Preformance for Training set\n",
      "- Root Mean Squared Erro: 1.8479\n",
      "- Mean Absolute Error: 1.8479\n",
      "- R2 Score: {:.4f} 0.9761233720888094\n",
      "-------------------------------------------\n",
      "Model Preformance for Test set\n",
      "- Root Mean Squared Erro: 4.6282\n",
      "- Mean Absolute Error: 4.6282\n",
      "- R2 Score: {:.4f} 0.8520539203327547\n",
      "===================================\n",
      "\n",
      "\n",
      "XGBRegressor\n",
      "Model Preformance for Training set\n",
      "- Root Mean Squared Erro: 0.6875\n",
      "- Mean Absolute Error: 0.6875\n",
      "- R2 Score: {:.4f} 0.9954995512962341\n",
      "-------------------------------------------\n",
      "Model Preformance for Test set\n",
      "- Root Mean Squared Erro: 5.0577\n",
      "- Mean Absolute Error: 5.0577\n",
      "- R2 Score: {:.4f} 0.8277965784072876\n",
      "===================================\n",
      "\n",
      "\n",
      "CatBoost Regressor\n",
      "Model Preformance for Training set\n",
      "- Root Mean Squared Erro: 2.4054\n",
      "- Mean Absolute Error: 2.4054\n",
      "- R2 Score: {:.4f} 0.9589358676277713\n",
      "-------------------------------------------\n",
      "Model Preformance for Test set\n",
      "- Root Mean Squared Erro: 4.6125\n",
      "- Mean Absolute Error: 4.6125\n",
      "- R2 Score: {:.4f} 0.8516318920747058\n",
      "===================================\n",
      "\n",
      "\n",
      "AdaBoost Regressor\n",
      "Model Preformance for Training set\n",
      "- Root Mean Squared Erro: 4.7945\n",
      "- Mean Absolute Error: 4.7945\n",
      "- R2 Score: {:.4f} 0.8463546404667794\n",
      "-------------------------------------------\n",
      "Model Preformance for Test set\n",
      "- Root Mean Squared Erro: 4.7386\n",
      "- Mean Absolute Error: 4.7386\n",
      "- R2 Score: {:.4f} 0.8464115766719392\n",
      "===================================\n",
      "\n",
      "\n"
     ]
    }
   ],
   "source": [
    "models={\n",
    "    'Linear Regression':LinearRegression(),\n",
    "    'Lasso':Lasso(),\n",
    "    'Ridge':Ridge(),\n",
    "    'K-Neighbors Regressor':KNeighborsRegressor(),\n",
    "    'Decision Tree':DecisionTreeRegressor(),\n",
    "    'Random Forest Regressor':RandomForestRegressor(),\n",
    "    'XGBRegressor':XGBRegressor(),\n",
    "    \"CatBoost Regressor\":CatBoostRegressor(verbose=False),\n",
    "    \"AdaBoost Regressor\":AdaBoostRegressor()\n",
    "}\n",
    "\n",
    "model_list=[]\n",
    "r2_list=[]\n",
    "\n",
    "for name,model in models.items():\n",
    "    model.fit(x_train,y_train) # Train Model\n",
    "    \n",
    "    ## Make Predictions\n",
    "    y_train_pred=model.predict(x_train)\n",
    "    y_test_pred=model.predict(x_test)\n",
    "    \n",
    "    ## Evaluate Train and Test Dataset\n",
    "    \n",
    "    model_train_mae,model_train_rmse,model_train_r2=evaluate_model(y_train,y_train_pred)\n",
    "    model_test_mae,model_test_rmse,model_test_r2=evaluate_model(y_test,y_test_pred)\n",
    "    \n",
    "    print(name)\n",
    "    model_list.append(name)\n",
    "    \n",
    "    print(\"Model Preformance for Training set\")\n",
    "    print(\"- Root Mean Squared Erro: {:.4f}\".format(model_train_mae))\n",
    "    print(\"- Mean Absolute Error: {:.4f}\".format(model_train_mae))\n",
    "    print(\"- R2 Score: {:.4f}\",format(model_train_r2))\n",
    "    \n",
    "    print('-------------------------------------------')\n",
    "    \n",
    "    print(\"Model Preformance for Test set\")\n",
    "    print(\"- Root Mean Squared Erro: {:.4f}\".format(model_test_mae))\n",
    "    print(\"- Mean Absolute Error: {:.4f}\".format(model_test_mae))\n",
    "    print(\"- R2 Score: {:.4f}\",format(model_test_r2))\n",
    "    \n",
    "    r2_list.append(model_test_r2)\n",
    "    \n",
    "    print('='*35)\n",
    "    print('\\n')\n"
   ]
  },
  {
   "cell_type": "code",
   "execution_count": 17,
   "id": "bf8ef8e3",
   "metadata": {},
   "outputs": [
    {
     "data": {
      "application/vnd.microsoft.datawrangler.viewer.v0+json": {
       "columns": [
        {
         "name": "index",
         "rawType": "int64",
         "type": "integer"
        },
        {
         "name": "Model Name",
         "rawType": "object",
         "type": "string"
        },
        {
         "name": "R2_Score",
         "rawType": "float64",
         "type": "float"
        }
       ],
       "ref": "722cc0e8-38aa-4b70-8849-c17d37c0da11",
       "rows": [
        [
         "4",
         "Decision Tree",
         "0.7513750398621837"
        ],
        [
         "3",
         "K-Neighbors Regressor",
         "0.7834973847119895"
        ],
        [
         "1",
         "Lasso",
         "0.8253197323627853"
        ],
        [
         "6",
         "XGBRegressor",
         "0.8277965784072876"
        ],
        [
         "8",
         "AdaBoost Regressor",
         "0.8464115766719392"
        ],
        [
         "7",
         "CatBoost Regressor",
         "0.8516318920747058"
        ],
        [
         "5",
         "Random Forest Regressor",
         "0.8520539203327547"
        ],
        [
         "0",
         "Linear Regression",
         "0.8804332983749565"
        ],
        [
         "2",
         "Ridge",
         "0.8805931485028738"
        ]
       ],
       "shape": {
        "columns": 2,
        "rows": 9
       }
      },
      "text/html": [
       "<div>\n",
       "<style scoped>\n",
       "    .dataframe tbody tr th:only-of-type {\n",
       "        vertical-align: middle;\n",
       "    }\n",
       "\n",
       "    .dataframe tbody tr th {\n",
       "        vertical-align: top;\n",
       "    }\n",
       "\n",
       "    .dataframe thead th {\n",
       "        text-align: right;\n",
       "    }\n",
       "</style>\n",
       "<table border=\"1\" class=\"dataframe\">\n",
       "  <thead>\n",
       "    <tr style=\"text-align: right;\">\n",
       "      <th></th>\n",
       "      <th>Model Name</th>\n",
       "      <th>R2_Score</th>\n",
       "    </tr>\n",
       "  </thead>\n",
       "  <tbody>\n",
       "    <tr>\n",
       "      <th>4</th>\n",
       "      <td>Decision Tree</td>\n",
       "      <td>0.751375</td>\n",
       "    </tr>\n",
       "    <tr>\n",
       "      <th>3</th>\n",
       "      <td>K-Neighbors Regressor</td>\n",
       "      <td>0.783497</td>\n",
       "    </tr>\n",
       "    <tr>\n",
       "      <th>1</th>\n",
       "      <td>Lasso</td>\n",
       "      <td>0.825320</td>\n",
       "    </tr>\n",
       "    <tr>\n",
       "      <th>6</th>\n",
       "      <td>XGBRegressor</td>\n",
       "      <td>0.827797</td>\n",
       "    </tr>\n",
       "    <tr>\n",
       "      <th>8</th>\n",
       "      <td>AdaBoost Regressor</td>\n",
       "      <td>0.846412</td>\n",
       "    </tr>\n",
       "    <tr>\n",
       "      <th>7</th>\n",
       "      <td>CatBoost Regressor</td>\n",
       "      <td>0.851632</td>\n",
       "    </tr>\n",
       "    <tr>\n",
       "      <th>5</th>\n",
       "      <td>Random Forest Regressor</td>\n",
       "      <td>0.852054</td>\n",
       "    </tr>\n",
       "    <tr>\n",
       "      <th>0</th>\n",
       "      <td>Linear Regression</td>\n",
       "      <td>0.880433</td>\n",
       "    </tr>\n",
       "    <tr>\n",
       "      <th>2</th>\n",
       "      <td>Ridge</td>\n",
       "      <td>0.880593</td>\n",
       "    </tr>\n",
       "  </tbody>\n",
       "</table>\n",
       "</div>"
      ],
      "text/plain": [
       "                Model Name  R2_Score\n",
       "4            Decision Tree  0.751375\n",
       "3    K-Neighbors Regressor  0.783497\n",
       "1                    Lasso  0.825320\n",
       "6             XGBRegressor  0.827797\n",
       "8       AdaBoost Regressor  0.846412\n",
       "7       CatBoost Regressor  0.851632\n",
       "5  Random Forest Regressor  0.852054\n",
       "0        Linear Regression  0.880433\n",
       "2                    Ridge  0.880593"
      ]
     },
     "execution_count": 17,
     "metadata": {},
     "output_type": "execute_result"
    }
   ],
   "source": [
    "pd.DataFrame(list(zip(model_list,r2_list)),columns=['Model Name','R2_Score']).sort_values(by=[\"R2_Score\"],ascending=True)"
   ]
  },
  {
   "cell_type": "markdown",
   "id": "803fae8b",
   "metadata": {},
   "source": [
    "## Ridge Regression"
   ]
  },
  {
   "cell_type": "code",
   "execution_count": 18,
   "id": "364af446",
   "metadata": {},
   "outputs": [
    {
     "name": "stdout",
     "output_type": "stream",
     "text": [
      "Accuracy of model is 88.06\n"
     ]
    }
   ],
   "source": [
    "ridge=Ridge(fit_intercept=True)\n",
    "ridge=ridge.fit(x_train,y_train)\n",
    "y_pred=ridge.predict(x_test)\n",
    "score=r2_score(y_test,y_pred)*100\n",
    "print(\"Accuracy of model is %.2f\" %score)"
   ]
  },
  {
   "cell_type": "markdown",
   "id": "8583dd34",
   "metadata": {},
   "source": [
    "## Plot y_pred and y_test"
   ]
  },
  {
   "cell_type": "code",
   "execution_count": 19,
   "id": "c33ad963",
   "metadata": {},
   "outputs": [
    {
     "data": {
      "text/plain": [
       "Text(0, 0.5, 'Predicted')"
      ]
     },
     "execution_count": 19,
     "metadata": {},
     "output_type": "execute_result"
    },
    {
     "data": {
      "image/png": "[encoded data removed]",
      "text/plain": [
       "<Figure size 640x480 with 1 Axes>"
      ]
     },
     "metadata": {},
     "output_type": "display_data"
    }
   ],
   "source": [
    "plt.scatter(y_test,y_pred)\n",
    "plt.xlabel('Actual')\n",
    "plt.ylabel(\"Predicted\")"
   ]
  },
  {
   "cell_type": "code",
   "execution_count": 20,
   "id": "487f8260",
   "metadata": {},
   "outputs": [
    {
     "data": {
      "text/plain": [
       "<Axes: xlabel='math_score'>"
      ]
     },
     "execution_count": 20,
     "metadata": {},
     "output_type": "execute_result"
    },
    {
     "data": {
      "image/png": "[encoded data removed]",
      "text/plain": [
       "<Figure size 640x480 with 1 Axes>"
      ]
     },
     "metadata": {},
     "output_type": "display_data"
    }
   ],
   "source": [
    "sns.regplot(x=y_test,y=y_pred,ci=None,color='red')"
   ]
  },
  {
   "cell_type": "code",
   "execution_count": 21,
   "id": "839e2b0b",
   "metadata": {},
   "outputs": [],
   "source": [
    "pred_df=pd.DataFrame({'Actual Value':y_test,\"Predicted Value\":y_pred,'Difference':y_test-y_pred})"
   ]
  },
  {
   "cell_type": "code",
   "execution_count": 22,
   "id": "7f987a06",
   "metadata": {},
   "outputs": [
    {
     "data": {
      "application/vnd.microsoft.datawrangler.viewer.v0+json": {
       "columns": [
        {
         "name": "index",
         "rawType": "int64",
         "type": "integer"
        },
        {
         "name": "Actual Value",
         "rawType": "int64",
         "type": "integer"
        },
        {
         "name": "Predicted Value",
         "rawType": "float64",
         "type": "float"
        },
        {
         "name": "Difference",
         "rawType": "float64",
         "type": "float"
        }
       ],
       "ref": "8dbb06c7-e486-4d21-9517-2a922d2fb4f2",
       "rows": [
        [
         "521",
         "91",
         "76.39870549583677",
         "14.601294504163235"
        ],
        [
         "737",
         "53",
         "58.84246852339129",
         "-5.84246852339129"
        ],
        [
         "740",
         "80",
         "76.99212918627025",
         "3.0078708137297525"
        ],
        [
         "660",
         "74",
         "76.80589763945444",
         "-2.805897639454443"
        ],
        [
         "411",
         "84",
         "87.61538748633228",
         "-3.6153874863322812"
        ],
        [
         "678",
         "81",
         "78.9154496813047",
         "2.0845503186953067"
        ],
        [
         "626",
         "69",
         "64.71522731240748",
         "4.284772687592522"
        ],
        [
         "513",
         "54",
         "53.04476090506874",
         "0.9552390949312581"
        ],
        [
         "859",
         "87",
         "74.11589981527614",
         "12.884100184723863"
        ],
        [
         "136",
         "51",
         "49.36684719541297",
         "1.6331528045870272"
        ],
        [
         "811",
         "45",
         "52.86364945363175",
         "-7.863649453631751"
        ],
        [
         "76",
         "30",
         "36.6658632871868",
         "-6.665863287186802"
        ],
        [
         "636",
         "67",
         "67.90010027044109",
         "-0.9001002704410865"
        ],
        [
         "973",
         "49",
         "52.34637169063488",
         "-3.346371690634882"
        ],
        [
         "938",
         "85",
         "86.66674368908045",
         "-1.6667436890804481"
        ],
        [
         "899",
         "65",
         "70.53102301782008",
         "-5.531023017820075"
        ],
        [
         "280",
         "53",
         "52.05261329814746",
         "0.9473867018525368"
        ],
        [
         "883",
         "55",
         "46.873675715412276",
         "8.126324284587724"
        ],
        [
         "761",
         "48",
         "48.90217316467445",
         "-0.9021731646744513"
        ],
        [
         "319",
         "56",
         "52.778209816761574",
         "3.2217901832384257"
        ],
        [
         "549",
         "79",
         "73.90330353503879",
         "5.096696464961212"
        ],
        [
         "174",
         "43",
         "38.960857439703254",
         "4.039142560296746"
        ],
        [
         "371",
         "45",
         "57.456654734474874",
         "-12.456654734474874"
        ],
        [
         "527",
         "36",
         "36.45000984527541",
         "-0.4500098452754102"
        ],
        [
         "210",
         "80",
         "78.10707214491386",
         "1.8929278550861426"
        ],
        [
         "235",
         "80",
         "81.73401288019436",
         "-1.7340128801943564"
        ],
        [
         "101",
         "68",
         "75.4296186312314",
         "-7.429618631231406"
        ],
        [
         "986",
         "40",
         "46.251959174766924",
         "-6.251959174766924"
        ],
        [
         "902",
         "34",
         "31.18920387912381",
         "2.8107961208761907"
        ],
        [
         "947",
         "49",
         "49.907943329771534",
         "-0.907943329771534"
        ],
        [
         "346",
         "62",
         "65.97936110097623",
         "-3.9793611009762344"
        ],
        [
         "139",
         "71",
         "70.34584992528012",
         "0.6541500747198796"
        ],
        [
         "621",
         "62",
         "60.54916026004336",
         "1.450839739956642"
        ],
        [
         "499",
         "76",
         "83.61763373020277",
         "-7.617633730202769"
        ],
        [
         "370",
         "84",
         "84.38596058814565",
         "-0.38596058814565026"
        ],
        [
         "198",
         "45",
         "46.057473141587465",
         "-1.0574731415874652"
        ],
        [
         "687",
         "77",
         "76.09690005503691",
         "0.9030999449630883"
        ],
        [
         "584",
         "69",
         "70.22415483864259",
         "-1.2241548386425904"
        ],
        [
         "901",
         "73",
         "65.9471195699187",
         "7.052880430081302"
        ],
        [
         "59",
         "0",
         "3.9069479645975704",
         "-3.9069479645975704"
        ],
        [
         "328",
         "82",
         "78.4654819865982",
         "3.5345180134017937"
        ],
        [
         "96",
         "65",
         "67.27292319363255",
         "-2.2729231936325505"
        ],
        [
         "312",
         "67",
         "67.95257933877288",
         "-0.9525793387728783"
        ],
        [
         "974",
         "54",
         "60.24626869128302",
         "-6.246268691283021"
        ],
        [
         "299",
         "90",
         "79.74038938491506",
         "10.259610615084938"
        ],
        [
         "277",
         "59",
         "67.46247193706745",
         "-8.462471937067448"
        ],
        [
         "924",
         "74",
         "72.17873702907255",
         "1.8212629709274495"
        ],
        [
         "601",
         "29",
         "24.807841415987426",
         "4.192158584012574"
        ],
        [
         "439",
         "89",
         "85.99255269823244",
         "3.007447301767556"
        ],
        [
         "837",
         "75",
         "70.15151182132358",
         "4.848488178676419"
        ]
       ],
       "shape": {
        "columns": 3,
        "rows": 200
       }
      },
      "text/html": [
       "<div>\n",
       "<style scoped>\n",
       "    .dataframe tbody tr th:only-of-type {\n",
       "        vertical-align: middle;\n",
       "    }\n",
       "\n",
       "    .dataframe tbody tr th {\n",
       "        vertical-align: top;\n",
       "    }\n",
       "\n",
       "    .dataframe thead th {\n",
       "        text-align: right;\n",
       "    }\n",
       "</style>\n",
       "<table border=\"1\" class=\"dataframe\">\n",
       "  <thead>\n",
       "    <tr style=\"text-align: right;\">\n",
       "      <th></th>\n",
       "      <th>Actual Value</th>\n",
       "      <th>Predicted Value</th>\n",
       "      <th>Difference</th>\n",
       "    </tr>\n",
       "  </thead>\n",
       "  <tbody>\n",
       "    <tr>\n",
       "      <th>521</th>\n",
       "      <td>91</td>\n",
       "      <td>76.398705</td>\n",
       "      <td>14.601295</td>\n",
       "    </tr>\n",
       "    <tr>\n",
       "      <th>737</th>\n",
       "      <td>53</td>\n",
       "      <td>58.842469</td>\n",
       "      <td>-5.842469</td>\n",
       "    </tr>\n",
       "    <tr>\n",
       "      <th>740</th>\n",
       "      <td>80</td>\n",
       "      <td>76.992129</td>\n",
       "      <td>3.007871</td>\n",
       "    </tr>\n",
       "    <tr>\n",
       "      <th>660</th>\n",
       "      <td>74</td>\n",
       "      <td>76.805898</td>\n",
       "      <td>-2.805898</td>\n",
       "    </tr>\n",
       "    <tr>\n",
       "      <th>411</th>\n",
       "      <td>84</td>\n",
       "      <td>87.615387</td>\n",
       "      <td>-3.615387</td>\n",
       "    </tr>\n",
       "    <tr>\n",
       "      <th>...</th>\n",
       "      <td>...</td>\n",
       "      <td>...</td>\n",
       "      <td>...</td>\n",
       "    </tr>\n",
       "    <tr>\n",
       "      <th>408</th>\n",
       "      <td>52</td>\n",
       "      <td>43.492293</td>\n",
       "      <td>8.507707</td>\n",
       "    </tr>\n",
       "    <tr>\n",
       "      <th>332</th>\n",
       "      <td>62</td>\n",
       "      <td>62.170763</td>\n",
       "      <td>-0.170763</td>\n",
       "    </tr>\n",
       "    <tr>\n",
       "      <th>208</th>\n",
       "      <td>74</td>\n",
       "      <td>67.910325</td>\n",
       "      <td>6.089675</td>\n",
       "    </tr>\n",
       "    <tr>\n",
       "      <th>613</th>\n",
       "      <td>65</td>\n",
       "      <td>67.061504</td>\n",
       "      <td>-2.061504</td>\n",
       "    </tr>\n",
       "    <tr>\n",
       "      <th>78</th>\n",
       "      <td>61</td>\n",
       "      <td>62.427189</td>\n",
       "      <td>-1.427189</td>\n",
       "    </tr>\n",
       "  </tbody>\n",
       "</table>\n",
       "<p>200 rows × 3 columns</p>\n",
       "</div>"
      ],
      "text/plain": [
       "     Actual Value  Predicted Value  Difference\n",
       "521            91        76.398705   14.601295\n",
       "737            53        58.842469   -5.842469\n",
       "740            80        76.992129    3.007871\n",
       "660            74        76.805898   -2.805898\n",
       "411            84        87.615387   -3.615387\n",
       "..            ...              ...         ...\n",
       "408            52        43.492293    8.507707\n",
       "332            62        62.170763   -0.170763\n",
       "208            74        67.910325    6.089675\n",
       "613            65        67.061504   -2.061504\n",
       "78             61        62.427189   -1.427189\n",
       "\n",
       "[200 rows x 3 columns]"
      ]
     },
     "execution_count": 22,
     "metadata": {},
     "output_type": "execute_result"
    }
   ],
   "source": [
    "pred_df"
   ]
  }
 ],
 "metadata": {
  "kernelspec": {
   "display_name": "Python 3",
   "language": "python",
   "name": "python3"
  },
  "language_info": {
   "codemirror_mode": {
    "name": "ipython",
    "version": 3
   },
   "file_extension": ".py",
   "mimetype": "text/x-python",
   "name": "python",
   "nbconvert_exporter": "python",
   "pygments_lexer": "ipython3",
   "version": "3.13.7"
  }
 },
 "nbformat": 4,
 "nbformat_minor": 5
}
